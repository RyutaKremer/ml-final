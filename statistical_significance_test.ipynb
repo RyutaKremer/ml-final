{
  "nbformat": 4,
  "nbformat_minor": 0,
  "metadata": {
    "colab": {
      "name": "statistical_significance_test.ipynb",
      "provenance": [],
      "collapsed_sections": []
    },
    "kernelspec": {
      "name": "python3",
      "display_name": "Python 3"
    },
    "language_info": {
      "name": "python"
    }
  },
  "cells": [
    {
      "cell_type": "code",
      "metadata": {
        "id": "iolu4B2xG0o3"
      },
      "source": [
        "!pip install scikit_posthocs"
      ],
      "execution_count": null,
      "outputs": []
    },
    {
      "cell_type": "code",
      "metadata": {
        "id": "-dTzAhGrSobl"
      },
      "source": [
        "import pandas as pd\n",
        "from scipy import stats\n",
        "import scikit_posthocs as sp"
      ],
      "execution_count": null,
      "outputs": []
    },
    {
      "cell_type": "code",
      "metadata": {
        "id": "aa6HR5OXS3iX"
      },
      "source": [
        "df = pd.read_excel('results.xlsx')"
      ],
      "execution_count": null,
      "outputs": []
    },
    {
      "cell_type": "code",
      "metadata": {
        "id": "x7o3bWpbTmFE"
      },
      "source": [
        "dataset = 'CIFAR10'\n",
        "metrics = 'AUC'\n",
        "\n",
        "df_dataset = df[df['Dataset Name'].str.contains(dataset + '_')]\n",
        "df_FGE = df_dataset[df_dataset['Algorithm Name'] == 'FGE']\n",
        "df_FGEm = df_dataset[df_dataset['Algorithm Name'] == 'FGEm']\n",
        "df_SSE = df_dataset[df_dataset['Algorithm Name'] == 'SSE']\n",
        "\n",
        "result = stats.friedmanchisquare(df_FGE[metrics].values, df_FGEm[metrics].values, df_SSE[metrics].values)\n",
        "print(result)\n",
        "\n",
        "sp.posthoc_dscf(df_dataset, val_col=metrics, group_col='Algorithm Name')"
      ],
      "execution_count": null,
      "outputs": []
    },
    {
      "cell_type": "code",
      "metadata": {
        "id": "FKxf9cEoZSwh"
      },
      "source": [
        "dataset = 'CIFAR100'\n",
        "metrics = 'AUC'\n",
        "\n",
        "df_dataset = df[df['Dataset Name'].str.contains(dataset + '_')]\n",
        "df_FGE = df_dataset[df_dataset['Algorithm Name'] == 'FGE']\n",
        "df_FGEm = df_dataset[df_dataset['Algorithm Name'] == 'FGEm']\n",
        "df_SSE = df_dataset[df_dataset['Algorithm Name'] == 'SSE']\n",
        "\n",
        "result = stats.friedmanchisquare(df_FGE[metrics].values, df_FGEm[metrics].values, df_SSE[metrics].values)\n",
        "print(result)\n",
        "\n",
        "sp.posthoc_dscf(df_dataset, val_col=metrics, group_col='Algorithm Name')"
      ],
      "execution_count": null,
      "outputs": []
    }
  ]
}